{
 "cells": [
  {
   "cell_type": "code",
   "execution_count": 5,
   "id": "661486c1-251c-4520-a772-9a70bfc08ecd",
   "metadata": {},
   "outputs": [
    {
     "name": "stdout",
     "output_type": "stream",
     "text": [
      "Requirement already satisfied: pyspark in c:\\users\\vannesa\\anaconda3\\lib\\site-packages (3.5.1)\n",
      "Requirement already satisfied: py4j==0.10.9.7 in c:\\users\\vannesa\\anaconda3\\lib\\site-packages (from pyspark) (0.10.9.7)\n"
     ]
    }
   ],
   "source": [
    "!pip install pyspark"
   ]
  },
  {
   "cell_type": "code",
   "execution_count": 8,
   "id": "412555e1-a10d-4c43-ae1c-d60c39dd19e7",
   "metadata": {},
   "outputs": [],
   "source": [
    "# mengimport modul ALS dari Spark Machine Learning\n",
    "from pyspark.sql import SparkSession\n",
    "from pyspark.ml.recommendation import ALS\n",
    "\n",
    "# membuat session \n",
    "appName = \"Sistem Rekomender di Spark\"\n",
    "spark = SparkSession.builder.appName (appName).config(\"spark.some.config.option\", \"some-value\").getOrCreate()"
   ]
  },
  {
   "cell_type": "markdown",
   "id": "3c3c7bf8-dd84-4ece-a8b4-3300468158d3",
   "metadata": {},
   "source": [
    "## Membuat Data dari File "
   ]
  },
  {
   "cell_type": "code",
   "execution_count": 9,
   "id": "88614b4a-eb2f-4bdc-8869-cf008c435b28",
   "metadata": {},
   "outputs": [
    {
     "name": "stdout",
     "output_type": "stream",
     "text": [
      "+-------+------+------+----------+--------------------+--------------------+\n",
      "|movieId|userId|rating| timestamp|               title|              genres|\n",
      "+-------+------+------+----------+--------------------+--------------------+\n",
      "|     31|     1|   2.5|1260759144|Dangerous Minds (...|               Drama|\n",
      "|   1029|     1|   3.0|1260759179|        Dumbo (1941)|Animation|Childre...|\n",
      "|   1061|     1|   3.0|1260759182|     Sleepers (1996)|            Thriller|\n",
      "|   1129|     1|   2.0|1260759185|Escape from New Y...|Action|Adventure|...|\n",
      "|   1172|     1|   4.0|1260759205|Cinema Paradiso (...|               Drama|\n",
      "+-------+------+------+----------+--------------------+--------------------+\n",
      "only showing top 5 rows\n",
      "\n"
     ]
    }
   ],
   "source": [
    "# membuat data file ke DataFrame \n",
    "ratings = spark.read.csv ('ratings.csv', inferSchema = True, header = True)\n",
    "movies = spark.read.csv ('movies.csv', inferSchema = True, header = True)\n",
    "\n",
    "# menggabungkan data movie dan rating berdasarkan movieID \n",
    "ratings.join (movies, \"movieID\").show (5)"
   ]
  },
  {
   "cell_type": "markdown",
   "id": "30830cae-54a6-4f8a-a8e0-fbb247545d3d",
   "metadata": {},
   "source": [
    "### Menyiapkan Data "
   ]
  },
  {
   "cell_type": "code",
   "execution_count": null,
   "id": "020463dd-90f4-4cd4-a28d-d3c68fad5c41",
   "metadata": {},
   "outputs": [
    {
     "name": "stdout",
     "output_type": "stream",
     "text": [
      "Jumlah baris data training :  69813, jumlah baris data testing : 30191\n"
     ]
    }
   ],
   "source": [
    "# memilih kolom data \"userId\", \"movieId\", dan \"rating\"\n",
    "data = ratings.select (\"userId\", \"movieId\", \"rating\")\n",
    "\n",
    "# membagi data 70% training dan 30% testing\n",
    "splits = data.randomSplit ([0.7, 0.3])\n",
    "train = splits[0].withColumnRenamed (\"rating\", \"label\")\n",
    "test = splits [1].withColumnRenamed (\"rating\", \"trueLabel\")\n",
    "\n",
    "# menghitung baris data training dan testing \n",
    "train_rows = train.count()\n",
    "test_rows = test.count ()\n",
    "print (f\"Jumlah baris data training :  {train_rows}, jumlah baris data testing : {test_rows}\")"
   ]
  },
  {
   "cell_type": "markdown",
   "id": "056ee284-bfdc-4d66-9be4-8165f37703b5",
   "metadata": {},
   "source": [
    "### Mendefinisikan model dan mentrainingnya "
   ]
  },
  {
   "cell_type": "code",
   "execution_count": 12,
   "id": "5d2ccbb7-9081-43eb-8ab0-b527773451ad",
   "metadata": {},
   "outputs": [
    {
     "name": "stdout",
     "output_type": "stream",
     "text": [
      "Model telah selasai ditraining\n"
     ]
    }
   ],
   "source": [
    "# mendefinisikan algoritma ALS untuk sistem rekomender kita \n",
    "als = ALS (maxIter = 19, regParam = 0.01, userCol = \"userId\", itemCol = \"movieId\", ratingCol = \"label\")\n",
    "\n",
    "# mentraining model dengan fungsi \".fit()\"\n",
    "model = als.fit (train)\n",
    "print (\"Model telah selasai ditraining\")"
   ]
  },
  {
   "cell_type": "markdown",
   "id": "416944fe-6c5c-4b94-bec2-8ee7c4c6d6e5",
   "metadata": {},
   "source": [
    "### Melakukan prediksi dengan model rekomender yang telah ditraining"
   ]
  },
  {
   "cell_type": "code",
   "execution_count": 13,
   "id": "fbf6fd44-370a-4b24-b68c-d554a32154a9",
   "metadata": {},
   "outputs": [
    {
     "name": "stdout",
     "output_type": "stream",
     "text": [
      "+------+--------------------------------+----------+---------+\n",
      "|userId|title                           |prediction|trueLabel|\n",
      "+------+--------------------------------+----------+---------+\n",
      "|463   |Out of Africa (1985)            |3.381054  |4.0      |\n",
      "|85    |Hudsucker Proxy, The (1994)     |2.713788  |3.0      |\n",
      "|580   |Men in Black (a.k.a. MIB) (1997)|3.1576352 |2.5      |\n",
      "|580   |American Splendor (2003)        |3.2867143 |4.0      |\n",
      "|580   |Ice Age 2: The Meltdown (2006)  |2.5637996 |2.5      |\n",
      "+------+--------------------------------+----------+---------+\n",
      "only showing top 5 rows\n",
      "\n"
     ]
    }
   ],
   "source": [
    "prediction = model.transform (test)\n",
    "prediction.join (movies, \"movieId\").select(\"userId\", \"title\", \"prediction\", \"trueLabel\").show (n = 5, truncate = False)"
   ]
  },
  {
   "cell_type": "markdown",
   "id": "21c15736-2df2-4575-ace2-d72f6d69eaf7",
   "metadata": {},
   "source": [
    "### Mengevaluasi seberapa akurat sistem rekomender"
   ]
  },
  {
   "cell_type": "code",
   "execution_count": 17,
   "id": "d35aa3da-eb98-438a-a916-99d0bb60bba9",
   "metadata": {},
   "outputs": [
    {
     "name": "stdout",
     "output_type": "stream",
     "text": [
      "Root Mean Square Error RMSE : nan\n"
     ]
    }
   ],
   "source": [
    "# dikarenakan ingin menghitung RMSE maka menggunaak RegressionEvaluator \n",
    "from pyspark.ml.evaluation import RegressionEvaluator \n",
    "\n",
    "evaluator = RegressionEvaluator (labelCol = \"trueLabel\", predictionCol = \"prediction\", metricName = \"rmse\")\n",
    "rmse = evaluator.evaluate (prediction)\n",
    "print ( f\"Root Mean Square Error RMSE : {rmse}\")"
   ]
  },
  {
   "cell_type": "code",
   "execution_count": 18,
   "id": "3134fce5-7b7b-4fd8-875f-9be1b1fe1bab",
   "metadata": {},
   "outputs": [
    {
     "name": "stdout",
     "output_type": "stream",
     "text": [
      "jumlah baris sebelum di hapus data kosong 30191\n",
      "jumlah baris setelah di hapus data yang kosong 29036\n",
      "jumlah baris data kosong  :  1155\n"
     ]
    }
   ],
   "source": [
    "prediction.count()\n",
    "a = prediction.count()\n",
    "print (\"jumlah baris sebelum di hapus data kosong\", a)\n",
    "cleanPred = prediction.dropna (how = \"any\", subset = [\"prediction\"])\n",
    "b = cleanPred.count()\n",
    "print (\"jumlah baris setelah di hapus data yang kosong\", b)\n",
    "print (\"jumlah baris data kosong  : \", a-b )"
   ]
  },
  {
   "cell_type": "code",
   "execution_count": 19,
   "id": "b8d74cd3-9878-4f7a-968a-b42356dcbbe6",
   "metadata": {},
   "outputs": [
    {
     "name": "stdout",
     "output_type": "stream",
     "text": [
      "Root Mean Square Error (RMSE):  1.2358890381235188\n"
     ]
    }
   ],
   "source": [
    "rmse = evaluator.evaluate (cleanPred)\n",
    "print (\"Root Mean Square Error (RMSE): \", rmse)"
   ]
  },
  {
   "cell_type": "code",
   "execution_count": null,
   "id": "f8886b2c-f643-4378-b605-16616cd6b23b",
   "metadata": {},
   "outputs": [],
   "source": []
  }
 ],
 "metadata": {
  "kernelspec": {
   "display_name": "Python 3 (ipykernel)",
   "language": "python",
   "name": "python3"
  },
  "language_info": {
   "codemirror_mode": {
    "name": "ipython",
    "version": 3
   },
   "file_extension": ".py",
   "mimetype": "text/x-python",
   "name": "python",
   "nbconvert_exporter": "python",
   "pygments_lexer": "ipython3",
   "version": "3.9.12"
  }
 },
 "nbformat": 4,
 "nbformat_minor": 5
}
